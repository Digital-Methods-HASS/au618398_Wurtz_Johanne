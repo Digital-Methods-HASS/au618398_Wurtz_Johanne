{
 "cells": [
  {
   "cell_type": "markdown",
   "metadata": {},
   "source": [
    "## Sentiment Analysis\n",
    "\n",
    "__Dictionary-based sentiment analysis with Python__\n",
    "\n",
    "\n",
    "- Calculate the sentiment score for every headline in the data. You can do this using the spaCyTextBlob approach that we covered in class or any other dictionary-based approach in Python.\n",
    "\n",
    "- Create and save a plot of sentiment over time with a 1-week rolling average\n",
    "\n",
    "- Create and save a plot of sentiment over time with a 1-month rolling average\n",
    "\n",
    "- Make sure that you have clear values on the x-axis and that you include the following: a plot title; labels for the x and y axes; and a legend for the plot\n",
    "\n",
    "- Write a short summary (no more than a paragraph) describing what the two plots show. You should mention the following points: \n",
    " - What (if any) are the general trends? \n",
    " - What (if any) inferences might you draw from them?"
   ]
  },
  {
   "cell_type": "markdown",
   "metadata": {},
   "source": [
    "__Libraries__"
   ]
  },
  {
   "cell_type": "code",
   "execution_count": 1,
   "metadata": {},
   "outputs": [],
   "source": [
    "import os\n",
    "import matplotlib.pyplot as plt\n",
    "import pandas as pd\n",
    "import spacy\n",
    "\n",
    "from spacytextblob.spacytextblob import SpacyTextBlob"
   ]
  },
  {
   "cell_type": "code",
   "execution_count": 2,
   "metadata": {},
   "outputs": [],
   "source": [
    "# initialise spacy\n",
    "nlp = spacy.load(\"en_core_web_sm\")\n",
    "spacy_text_blob = SpacyTextBlob()\n",
    "nlp.add_pipe(spacy_text_blob)"
   ]
  },
  {
   "cell_type": "markdown",
   "metadata": {},
   "source": [
    "__Filepaths__"
   ]
  },
  {
   "cell_type": "code",
   "execution_count": 32,
   "metadata": {},
   "outputs": [],
   "source": [
    "# Defining the filepath where the data file is located\n",
    "filepath = os.path.join(\"..\", \"..\",\"data\", \"headlines\",\"abcnews-date-text.csv\")\n",
    "\n",
    "# Defining the filepath were the data is going to be stored\n",
    "df_path = os.path.join(\"..\", \"..\",\"data\",\"headlines\", \"sentiment_df.csv\")\n",
    "\n",
    "# Defining the subset filepath were the subset data is located\n",
    "subset_path = os.path.join(\"..\", \"..\",\"data\",\"headlines\",\"subset_sentiment_df.csv\")"
   ]
  },
  {
   "cell_type": "markdown",
   "metadata": {},
   "source": [
    "__Data check__"
   ]
  },
  {
   "cell_type": "code",
   "execution_count": 4,
   "metadata": {},
   "outputs": [],
   "source": [
    "# I use a pandas data frame to get an overview of the data\n",
    "data_df = pd.read_csv(filepath)"
   ]
  },
  {
   "cell_type": "code",
   "execution_count": 5,
   "metadata": {},
   "outputs": [
    {
     "data": {
      "text/html": [
       "<div>\n",
       "<style scoped>\n",
       "    .dataframe tbody tr th:only-of-type {\n",
       "        vertical-align: middle;\n",
       "    }\n",
       "\n",
       "    .dataframe tbody tr th {\n",
       "        vertical-align: top;\n",
       "    }\n",
       "\n",
       "    .dataframe thead th {\n",
       "        text-align: right;\n",
       "    }\n",
       "</style>\n",
       "<table border=\"1\" class=\"dataframe\">\n",
       "  <thead>\n",
       "    <tr style=\"text-align: right;\">\n",
       "      <th></th>\n",
       "      <th>publish_date</th>\n",
       "      <th>headline_text</th>\n",
       "    </tr>\n",
       "  </thead>\n",
       "  <tbody>\n",
       "    <tr>\n",
       "      <th>0</th>\n",
       "      <td>20030219</td>\n",
       "      <td>aba decides against community broadcasting lic...</td>\n",
       "    </tr>\n",
       "    <tr>\n",
       "      <th>1</th>\n",
       "      <td>20030219</td>\n",
       "      <td>act fire witnesses must be aware of defamation</td>\n",
       "    </tr>\n",
       "    <tr>\n",
       "      <th>2</th>\n",
       "      <td>20030219</td>\n",
       "      <td>a g calls for infrastructure protection summit</td>\n",
       "    </tr>\n",
       "    <tr>\n",
       "      <th>3</th>\n",
       "      <td>20030219</td>\n",
       "      <td>air nz staff in aust strike for pay rise</td>\n",
       "    </tr>\n",
       "    <tr>\n",
       "      <th>4</th>\n",
       "      <td>20030219</td>\n",
       "      <td>air nz strike to affect australian travellers</td>\n",
       "    </tr>\n",
       "  </tbody>\n",
       "</table>\n",
       "</div>"
      ],
      "text/plain": [
       "   publish_date                                      headline_text\n",
       "0      20030219  aba decides against community broadcasting lic...\n",
       "1      20030219     act fire witnesses must be aware of defamation\n",
       "2      20030219     a g calls for infrastructure protection summit\n",
       "3      20030219           air nz staff in aust strike for pay rise\n",
       "4      20030219      air nz strike to affect australian travellers"
      ]
     },
     "execution_count": 5,
     "metadata": {},
     "output_type": "execute_result"
    }
   ],
   "source": [
    "# I use head() look at the data in the data frame  \n",
    "data_df.head(5)"
   ]
  },
  {
   "cell_type": "markdown",
   "metadata": {},
   "source": [
    "__Sentiment score__"
   ]
  },
  {
   "cell_type": "markdown",
   "metadata": {},
   "source": [
    "I recommend that you skip this and go directly to the updated data frame. It is in the following that the sentiment is calculated and it takes about 40 min. I have saved the updated data frame as sentiment_df.csv and attached it. It is from this that the rest of the calculations as well as the overviews are made."
   ]
  },
  {
   "cell_type": "code",
   "execution_count": 12,
   "metadata": {},
   "outputs": [],
   "source": [
    "# Create empty list where the sentiment scores will be saved\n",
    "polarity = []"
   ]
  },
  {
   "cell_type": "code",
   "execution_count": 13,
   "metadata": {},
   "outputs": [],
   "source": [
    "# Create for loop that loops over all the headlines and calculates the sentiment - don't use the batch_size because it only saves about 2 min for me\n",
    "for doc in nlp.pipe(data_df[\"headline_text\"]):\n",
    "    \n",
    "    # For every sentence calculate sentiment by adding polarity and subjectivity\n",
    "    for sentence in doc.sents:\n",
    "        polarity_score = sentence._.sentiment.polarity\n",
    "        \n",
    "        # Ad the scores to the lists\n",
    "        polarity.append(polarity_score)"
   ]
  },
  {
   "cell_type": "code",
   "execution_count": 15,
   "metadata": {},
   "outputs": [],
   "source": [
    "# Adding the two list, polarity and subjectivity, to coloumns in the data frame\n",
    "\n",
    "\n",
    "# I could not add the list directly, but when I convert it to series it works\n",
    "polarity_values = pd.Series(polarity)\n",
    "\n",
    "#I use pandas insert feature where loc is set to 0 as it is at this position where I want the values to start\n",
    "data_df.insert(loc=0, column=\"polarity\", value=polarity_values)\n"
   ]
  },
  {
   "cell_type": "code",
   "execution_count": 16,
   "metadata": {},
   "outputs": [
    {
     "data": {
      "text/html": [
       "<div>\n",
       "<style scoped>\n",
       "    .dataframe tbody tr th:only-of-type {\n",
       "        vertical-align: middle;\n",
       "    }\n",
       "\n",
       "    .dataframe tbody tr th {\n",
       "        vertical-align: top;\n",
       "    }\n",
       "\n",
       "    .dataframe thead th {\n",
       "        text-align: right;\n",
       "    }\n",
       "</style>\n",
       "<table border=\"1\" class=\"dataframe\">\n",
       "  <thead>\n",
       "    <tr style=\"text-align: right;\">\n",
       "      <th></th>\n",
       "      <th>polarity</th>\n",
       "      <th>publish_date</th>\n",
       "      <th>headline_text</th>\n",
       "    </tr>\n",
       "  </thead>\n",
       "  <tbody>\n",
       "    <tr>\n",
       "      <th>0</th>\n",
       "      <td>0.000</td>\n",
       "      <td>20030219</td>\n",
       "      <td>aba decides against community broadcasting lic...</td>\n",
       "    </tr>\n",
       "    <tr>\n",
       "      <th>1</th>\n",
       "      <td>0.250</td>\n",
       "      <td>20030219</td>\n",
       "      <td>act fire witnesses must be aware of defamation</td>\n",
       "    </tr>\n",
       "    <tr>\n",
       "      <th>2</th>\n",
       "      <td>0.000</td>\n",
       "      <td>20030219</td>\n",
       "      <td>a g calls for infrastructure protection summit</td>\n",
       "    </tr>\n",
       "    <tr>\n",
       "      <th>3</th>\n",
       "      <td>0.000</td>\n",
       "      <td>20030219</td>\n",
       "      <td>air nz staff in aust strike for pay rise</td>\n",
       "    </tr>\n",
       "    <tr>\n",
       "      <th>4</th>\n",
       "      <td>0.000</td>\n",
       "      <td>20030219</td>\n",
       "      <td>air nz strike to affect australian travellers</td>\n",
       "    </tr>\n",
       "    <tr>\n",
       "      <th>5</th>\n",
       "      <td>0.275</td>\n",
       "      <td>20030219</td>\n",
       "      <td>ambitious olsson wins triple jump</td>\n",
       "    </tr>\n",
       "    <tr>\n",
       "      <th>6</th>\n",
       "      <td>0.700</td>\n",
       "      <td>20030219</td>\n",
       "      <td>antic delighted with record breaking barca</td>\n",
       "    </tr>\n",
       "    <tr>\n",
       "      <th>7</th>\n",
       "      <td>-0.200</td>\n",
       "      <td>20030219</td>\n",
       "      <td>aussie qualifier stosur wastes four memphis match</td>\n",
       "    </tr>\n",
       "    <tr>\n",
       "      <th>8</th>\n",
       "      <td>0.000</td>\n",
       "      <td>20030219</td>\n",
       "      <td>aust addresses un security council over iraq</td>\n",
       "    </tr>\n",
       "    <tr>\n",
       "      <th>9</th>\n",
       "      <td>0.000</td>\n",
       "      <td>20030219</td>\n",
       "      <td>australia is locked into war timetable opp</td>\n",
       "    </tr>\n",
       "  </tbody>\n",
       "</table>\n",
       "</div>"
      ],
      "text/plain": [
       "   polarity  publish_date                                      headline_text\n",
       "0     0.000      20030219  aba decides against community broadcasting lic...\n",
       "1     0.250      20030219     act fire witnesses must be aware of defamation\n",
       "2     0.000      20030219     a g calls for infrastructure protection summit\n",
       "3     0.000      20030219           air nz staff in aust strike for pay rise\n",
       "4     0.000      20030219      air nz strike to affect australian travellers\n",
       "5     0.275      20030219                  ambitious olsson wins triple jump\n",
       "6     0.700      20030219         antic delighted with record breaking barca\n",
       "7    -0.200      20030219  aussie qualifier stosur wastes four memphis match\n",
       "8     0.000      20030219       aust addresses un security council over iraq\n",
       "9     0.000      20030219         australia is locked into war timetable opp"
      ]
     },
     "execution_count": 16,
     "metadata": {},
     "output_type": "execute_result"
    }
   ],
   "source": [
    "# Check the updated data frame\n",
    "data_df.head(10)"
   ]
  },
  {
   "cell_type": "code",
   "execution_count": 17,
   "metadata": {},
   "outputs": [],
   "source": [
    "# Save the updated data_df as a csv file\n",
    "data_df.to_csv(df_path)"
   ]
  },
  {
   "cell_type": "markdown",
   "metadata": {},
   "source": [
    "__Updated data frame__"
   ]
  },
  {
   "cell_type": "code",
   "execution_count": null,
   "metadata": {},
   "outputs": [],
   "source": [
    "# Read the csv file\n",
    "sentiment_df = pd.read_csv(df_path) # I have used this file for the calculations"
   ]
  },
  {
   "cell_type": "markdown",
   "metadata": {},
   "source": [
    "__Creating subset for test__"
   ]
  },
  {
   "cell_type": "code",
   "execution_count": 33,
   "metadata": {},
   "outputs": [],
   "source": [
    "# The subset contains the two columns polarity and publish_date\n",
    "subset_sentiment_df = sentiment_df[[\"polarity\",\"publish_date\"]]\n",
    "\n",
    "# And only the first 10000 rows of the sentiment_df\n",
    "subset_sentiment_df = subset_sentiment_df[:10000]\n",
    "\n",
    "# Save the subset as a csv  \n",
    "subset_sentiment_df.to_csv(subset_path, index=False)\n",
    "\n",
    "# Read the subset\n",
    "subset_sentiment_df = pd.read_csv(subset_path) # I recommend you use this file to test"
   ]
  },
  {
   "cell_type": "code",
   "execution_count": 34,
   "metadata": {},
   "outputs": [
    {
     "data": {
      "text/html": [
       "<div>\n",
       "<style scoped>\n",
       "    .dataframe tbody tr th:only-of-type {\n",
       "        vertical-align: middle;\n",
       "    }\n",
       "\n",
       "    .dataframe tbody tr th {\n",
       "        vertical-align: top;\n",
       "    }\n",
       "\n",
       "    .dataframe thead th {\n",
       "        text-align: right;\n",
       "    }\n",
       "</style>\n",
       "<table border=\"1\" class=\"dataframe\">\n",
       "  <thead>\n",
       "    <tr style=\"text-align: right;\">\n",
       "      <th></th>\n",
       "      <th>polarity</th>\n",
       "      <th>publish_date</th>\n",
       "    </tr>\n",
       "  </thead>\n",
       "  <tbody>\n",
       "    <tr>\n",
       "      <th>0</th>\n",
       "      <td>0.00</td>\n",
       "      <td>20030219</td>\n",
       "    </tr>\n",
       "    <tr>\n",
       "      <th>1</th>\n",
       "      <td>0.25</td>\n",
       "      <td>20030219</td>\n",
       "    </tr>\n",
       "    <tr>\n",
       "      <th>2</th>\n",
       "      <td>0.00</td>\n",
       "      <td>20030219</td>\n",
       "    </tr>\n",
       "    <tr>\n",
       "      <th>3</th>\n",
       "      <td>0.00</td>\n",
       "      <td>20030219</td>\n",
       "    </tr>\n",
       "    <tr>\n",
       "      <th>4</th>\n",
       "      <td>0.00</td>\n",
       "      <td>20030219</td>\n",
       "    </tr>\n",
       "  </tbody>\n",
       "</table>\n",
       "</div>"
      ],
      "text/plain": [
       "   polarity  publish_date\n",
       "0      0.00      20030219\n",
       "1      0.25      20030219\n",
       "2      0.00      20030219\n",
       "3      0.00      20030219\n",
       "4      0.00      20030219"
      ]
     },
     "execution_count": 34,
     "metadata": {},
     "output_type": "execute_result"
    }
   ],
   "source": [
    "subset_sentiment_df.head()"
   ]
  },
  {
   "cell_type": "markdown",
   "metadata": {},
   "source": [
    "__1 week average plot__"
   ]
  },
  {
   "cell_type": "code",
   "execution_count": 21,
   "metadata": {},
   "outputs": [],
   "source": [
    "# I group all the dates so there is one mean value for each date.\n",
    "day_by_day = sentiment_df.groupby(\"publish_date\")[\"polarity\"].mean()"
   ]
  },
  {
   "cell_type": "code",
   "execution_count": 22,
   "metadata": {},
   "outputs": [
    {
     "data": {
      "text/plain": [
       "publish_date\n",
       "20030219    0.005259\n",
       "20030220    0.017752\n",
       "20030221    0.006162\n",
       "20030222    0.025941\n",
       "20030223    0.001553\n",
       "Name: polarity, dtype: float64"
      ]
     },
     "execution_count": 22,
     "metadata": {},
     "output_type": "execute_result"
    }
   ],
   "source": [
    "# Check the grouped values\n",
    "day_by_day.head(5)"
   ]
  },
  {
   "cell_type": "code",
   "execution_count": 23,
   "metadata": {},
   "outputs": [
    {
     "data": {
      "image/png": "[encoded data removed]",
      "text/plain": [
       "<Figure size 432x288 with 1 Axes>"
      ]
     },
     "metadata": {
      "needs_background": "light"
     },
     "output_type": "display_data"
    }
   ],
   "source": [
    "# I now plot the rolling mean at weekly intervals. I do this by making the windowsize 7 (because there is 7 days in a week - mindblown).\n",
    "plt.plot(day_by_day.rolling(7).mean())\n",
    "\n",
    "# add title\n",
    "plt.title(\"Sentiment over time with a 1 week rolling average\")\n",
    "\n",
    "# add label to x-axis\n",
    "plt.xlabel(\"Date by year (yyyymmdd)\")\n",
    "\n",
    "# add label to y-axis\n",
    "plt.ylabel(\"Sentiment score\")\n",
    "\n",
    "# I use margins to zoom in. It is not necessary, but I think it fits the data better.  \n",
    "plt.margins(x=0, y=-0.10)\n",
    "\n",
    "# show the plot \n",
    "plt.show()"
   ]
  },
  {
   "cell_type": "markdown",
   "metadata": {},
   "source": [
    "__1 month average plot__"
   ]
  },
  {
   "cell_type": "code",
   "execution_count": 16,
   "metadata": {},
   "outputs": [
    {
     "data": {
      "image/png": "[encoded data removed]",
      "text/plain": [
       "<Figure size 432x288 with 1 Axes>"
      ]
     },
     "metadata": {
      "needs_background": "light"
     },
     "output_type": "display_data"
    }
   ],
   "source": [
    "# I now plot the rolling mean at weekly intervals. I do this by making the windowsize 30. 30 days = 1 month-ish\n",
    "plt.plot(day_by_day.rolling(30).mean())\n",
    "\n",
    "# add title\n",
    "plt.title(\"Sentiment over time with a 1 month rolling average\")\n",
    "\n",
    "# add label to x-axis\n",
    "plt.xlabel(\"Date by year (yyyymmdd)\")\n",
    "\n",
    "# add label to y-axis\n",
    "plt.ylabel(\"Sentiment score\")\n",
    "\n",
    "# I use margins to zoom in. It is not necessary, but I think it fits the data better.  \n",
    "plt.margins(x=0, y=-0.10)\n",
    "\n",
    "# show the plot\n",
    "plt.show()"
   ]
  },
  {
   "cell_type": "markdown",
   "metadata": {},
   "source": [
    "__Summary__"
   ]
  },
  {
   "cell_type": "markdown",
   "metadata": {},
   "source": [
    "Polarity is calculated based on a range between -1 and 1. It is this scale that determines whether the text is polarized or not, where -1 corresponds to a negative statement and 1 corresponds to a positive statement. The reason why the polarity values are so close to zero may be due to some different parameters.\n",
    "\n",
    "First and foremost, it may be because we work with averages through the calculation. First, we calculated the average for a day based on all the headlines published on the same date. Then we calculated the average for a whole week.\n",
    "\n",
    "Seen in connection with the fact that the data itself originates from newspaper headlines, there may be a connection between the polarity values being close to 0 and the content. The headlines come from the Australian news source ABC. ABC is owned and funded by the Australian Government and one is therefore inclined to believe that objectivity is weighted higher than clickbait. This means that the headings should be just around 0, which is neutral on the polarity scale, rather than high variation in positive and negative polarization.\n",
    "\n",
    "Had the data, on the other hand, originated from a more sensation-based source, the results would most likely have looked different."
   ]
  },
  {
   "cell_type": "code",
   "execution_count": null,
   "metadata": {},
   "outputs": [],
   "source": []
  }
 ],
 "metadata": {
  "kernelspec": {
   "display_name": "lang101",
   "language": "python",
   "name": "lang101"
  },
  "language_info": {
   "codemirror_mode": {
    "name": "ipython",
    "version": 3
   },
   "file_extension": ".py",
   "mimetype": "text/x-python",
   "name": "python",
   "nbconvert_exporter": "python",
   "pygments_lexer": "ipython3",
   "version": "3.6.9"
  }
 },
 "nbformat": 4,
 "nbformat_minor": 4
}
